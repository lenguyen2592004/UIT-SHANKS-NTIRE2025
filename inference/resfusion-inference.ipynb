{
 "cells": [
  {
   "cell_type": "code",
   "execution_count": null,
   "id": "29bebcce",
   "metadata": {},
   "outputs": [],
   "source": [
    "!git clone https://github.com/nkicsl/Resfusion"
   ]
  },
  {
   "cell_type": "code",
   "execution_count": 1,
   "id": "aad49c7a",
   "metadata": {
    "_cell_guid": "b1076dfc-b9ad-4769-8c92-a6c4dae69d19",
    "_uuid": "8f2839f25d086af736a60e9eeb907d3b93b6e0e5",
    "execution": {
     "iopub.execute_input": "2025-03-22T01:19:06.726983Z",
     "iopub.status.busy": "2025-03-22T01:19:06.726743Z",
     "iopub.status.idle": "2025-03-22T01:19:06.732010Z",
     "shell.execute_reply": "2025-03-22T01:19:06.731352Z"
    },
    "papermill": {
     "duration": 0.011436,
     "end_time": "2025-03-22T01:19:06.733280",
     "exception": false,
     "start_time": "2025-03-22T01:19:06.721844",
     "status": "completed"
    },
    "tags": []
   },
   "outputs": [],
   "source": [
    "import sys\n",
    "import os\n",
    "\n",
    "# Thêm đường dẫn vào sys.path\n",
    "sys.path.append('Resfusion')"
   ]
  },
  {
   "cell_type": "code",
   "execution_count": 2,
   "id": "a45c726e",
   "metadata": {
    "execution": {
     "iopub.execute_input": "2025-03-22T01:19:06.741148Z",
     "iopub.status.busy": "2025-03-22T01:19:06.740926Z",
     "iopub.status.idle": "2025-03-22T01:19:06.743917Z",
     "shell.execute_reply": "2025-03-22T01:19:06.743330Z"
    },
    "papermill": {
     "duration": 0.008247,
     "end_time": "2025-03-22T01:19:06.745113",
     "exception": false,
     "start_time": "2025-03-22T01:19:06.736866",
     "status": "completed"
    },
    "tags": []
   },
   "outputs": [],
   "source": [
    "import sys\n",
    "sys.argv = sys.argv[:1]  # Loại bỏ đối số '-f' của Jupyter"
   ]
  },
  {
   "cell_type": "markdown",
   "id": "88954fb8",
   "metadata": {
    "papermill": {
     "duration": 0.003108,
     "end_time": "2025-03-22T01:19:06.751745",
     "exception": false,
     "start_time": "2025-03-22T01:19:06.748637",
     "status": "completed"
    },
    "tags": []
   },
   "source": [
    "## Set up datamodule\n"
   ]
  },
  {
   "cell_type": "code",
   "execution_count": 3,
   "id": "5f4f5397",
   "metadata": {
    "execution": {
     "iopub.execute_input": "2025-03-22T01:19:06.759177Z",
     "iopub.status.busy": "2025-03-22T01:19:06.758983Z",
     "iopub.status.idle": "2025-03-22T01:19:24.707063Z",
     "shell.execute_reply": "2025-03-22T01:19:24.706355Z"
    },
    "papermill": {
     "duration": 17.953654,
     "end_time": "2025-03-22T01:19:24.708740",
     "exception": false,
     "start_time": "2025-03-22T01:19:06.755086",
     "status": "completed"
    },
    "tags": []
   },
   "outputs": [
    {
     "name": "stderr",
     "output_type": "stream",
     "text": [
      "/usr/local/lib/python3.10/dist-packages/albumentations/__init__.py:24: UserWarning: A new version of Albumentations is available: 2.0.5 (you have 1.4.20). Upgrade using: pip install -U albumentations. To disable automatic update checks, set the environment variable NO_ALBUMENTATIONS_UPDATE to 1.\n",
      "  check_for_updates()\n"
     ]
    }
   ],
   "source": [
    "import os\n",
    "import torch\n",
    "from torch.utils.data import Dataset\n",
    "from PIL import Image\n",
    "import matplotlib.pyplot as plt\n",
    "import albumentations as A\n",
    "from albumentations.pytorch.transforms import ToTensorV2\n",
    "from albumentations.augmentations.transforms import Normalize\n",
    "import numpy as np\n",
    "import pytorch_lightning as pl\n",
    "\n",
    "\n",
    "\n",
    "\n",
    "##################################################################\n",
    "train_transform = A.Compose([\n",
    "    A.RandomCrop(height=256, width=256),\n",
    "    A.HorizontalFlip(p=0.5),\n",
    "    Normalize(mean=(0, 0, 0), std=(1, 1, 1)),\n",
    "    ToTensorV2()],\n",
    "    additional_targets={'gt_image': 'image'},\n",
    ")\n",
    "\n",
    "test_transform = A.Compose([\n",
    "    Normalize(mean=(0, 0, 0), std=(1, 1, 1)),\n",
    "    ToTensorV2()],\n",
    "    additional_targets={'gt_image': 'image'},\n",
    ")\n",
    "##################################################################\n",
    "\n",
    "\n",
    "import os\n",
    "import numpy as np\n",
    "from torch.utils.data import Dataset\n",
    "from PIL import Image\n",
    "\n",
    "class RaindropDataset(Dataset):\n",
    "    def __init__(self, root_dir, transform=None):\n",
    "        \"\"\"\n",
    "        Initialize the dataset.\n",
    "        :param root_dir: Root directory of the dataset\n",
    "        :param transform: Transformations to apply to the data\n",
    "        \"\"\"\n",
    "        self.root_dir = root_dir\n",
    "        self.transform = transform\n",
    "        \n",
    "        # Check if the directory exists\n",
    "        if os.path.isdir(root_dir):\n",
    "            self.img_dir = root_dir\n",
    "            # Get all image files directly from root_dir\n",
    "            self.img_names = sorted([img for img in os.listdir(root_dir) \n",
    "                                    if img.lower().endswith(('jpg', 'png', 'jpeg'))])\n",
    "            self.gt_dir = None\n",
    "            self.gt_names = None\n",
    "        else:\n",
    "            raise ValueError(f\"Directory {root_dir} does not exist\")\n",
    "    \n",
    "    def __len__(self):\n",
    "        return len(self.img_names)\n",
    "\n",
    "    def __getitem__(self, idx):\n",
    "        img_name = self.img_names[idx]\n",
    "        img_path = os.path.join(self.img_dir, img_name)\n",
    "        image = Image.open(img_path).convert(\"RGB\")\n",
    "        \n",
    "        # For testing, use the same image as ground truth\n",
    "        gt = image.copy()\n",
    "        \n",
    "        # Resize images to be multiples of 16 for whole-image restoration\n",
    "        wd_new, ht_new = image.size\n",
    "        if ht_new > wd_new and ht_new > 1024:\n",
    "            wd_new = int(np.ceil(wd_new * 1024 / ht_new))\n",
    "            ht_new = 1024\n",
    "        elif ht_new <= wd_new and wd_new > 1024:\n",
    "            ht_new = int(np.ceil(ht_new * 1024 / wd_new))\n",
    "            wd_new = 1024\n",
    "        wd_new = int(16 * np.ceil(wd_new / 16.0))\n",
    "        ht_new = int(16 * np.ceil(ht_new / 16.0))\n",
    "        \n",
    "        image = image.resize((wd_new, ht_new))\n",
    "        gt = gt.resize((wd_new, ht_new))\n",
    "        \n",
    "        # Convert PIL images to NumPy arrays\n",
    "        image = np.array(image)\n",
    "        gt = np.array(gt)\n",
    "        \n",
    "        if self.transform:\n",
    "            augmented = self.transform(image=image, gt_image=gt)\n",
    "            image = augmented['image']\n",
    "            gt = augmented['gt_image']\n",
    "        \n",
    "        return image, gt\n",
    "\n",
    "class RaindropDataModule(pl.LightningDataModule):\n",
    "    def __init__(self, root_dir: str = \"private_dataset\", batch_size=1, pin_mem=True, num_workers=4):\n",
    "        super().__init__()\n",
    "        self.root_dir = root_dir\n",
    "        self.batch_size = batch_size\n",
    "        self.pin_mem = pin_mem\n",
    "        self.num_workers = num_workers\n",
    "\n",
    "    def setup(self, stage: str):\n",
    "        # Only set up test dataset, no train or val\n",
    "        if stage == \"test\":\n",
    "            self.test_dataset = RaindropDataset(root_dir=self.root_dir, transform=test_transform)\n",
    "\n",
    "    # Only keep the test dataloader\n",
    "    def test_dataloader(self):\n",
    "        return torch.utils.data.DataLoader(self.test_dataset, shuffle=False, drop_last=False,\n",
    "                                          batch_size=1, pin_memory=self.pin_mem,\n",
    "                                          num_workers=self.num_workers, persistent_workers=True)\n",
    "\n"
   ]
  },
  {
   "cell_type": "markdown",
   "id": "62cf93fb",
   "metadata": {
    "papermill": {
     "duration": 0.016972,
     "end_time": "2025-03-22T01:19:25.525959",
     "exception": false,
     "start_time": "2025-03-22T01:19:25.508987",
     "status": "completed"
    },
    "tags": []
   },
   "source": [
    "## Inference\n"
   ]
  },
  {
   "cell_type": "code",
   "execution_count": 5,
   "id": "d39204e4",
   "metadata": {
    "execution": {
     "iopub.execute_input": "2025-03-22T01:19:25.561287Z",
     "iopub.status.busy": "2025-03-22T01:19:25.560990Z",
     "iopub.status.idle": "2025-03-22T01:59:19.647809Z",
     "shell.execute_reply": "2025-03-22T01:59:19.646684Z"
    },
    "papermill": {
     "duration": 2394.106341,
     "end_time": "2025-03-22T01:59:19.649257",
     "exception": false,
     "start_time": "2025-03-22T01:19:25.542916",
     "status": "completed"
    },
    "tags": []
   },
   "outputs": [
    {
     "name": "stdout",
     "output_type": "stream",
     "text": [
      "acc point: 5\n"
     ]
    },
    {
     "data": {
      "application/vnd.jupyter.widget-view+json": {
       "model_id": "d6b754f3d2ae4fd98a3533e4ff33a920",
       "version_major": 2,
       "version_minor": 0
      },
      "text/plain": [
       "Testing: |          | 0/? [00:00<?, ?it/s]"
      ]
     },
     "metadata": {},
     "output_type": "display_data"
    },
    {
     "data": {
      "text/html": [
       "<pre style=\"white-space:pre;overflow-x:auto;line-height:normal;font-family:Menlo,'DejaVu Sans Mono',consolas,'Courier New',monospace\">┏━━━━━━━━━━━━━━━━━━━━━━━━━━━┳━━━━━━━━━━━━━━━━━━━━━━━━━━━┓\n",
       "┃<span style=\"font-weight: bold\">        Test metric        </span>┃<span style=\"font-weight: bold\">       DataLoader 0        </span>┃\n",
       "┡━━━━━━━━━━━━━━━━━━━━━━━━━━━╇━━━━━━━━━━━━━━━━━━━━━━━━━━━┩\n",
       "│<span style=\"color: #008080; text-decoration-color: #008080\">         test_PSNR         </span>│<span style=\"color: #800080; text-decoration-color: #800080\">    22.362512588500977     </span>│\n",
       "└───────────────────────────┴───────────────────────────┘\n",
       "</pre>\n"
      ],
      "text/plain": [
       "┏━━━━━━━━━━━━━━━━━━━━━━━━━━━┳━━━━━━━━━━━━━━━━━━━━━━━━━━━┓\n",
       "┃\u001b[1m \u001b[0m\u001b[1m       Test metric       \u001b[0m\u001b[1m \u001b[0m┃\u001b[1m \u001b[0m\u001b[1m      DataLoader 0       \u001b[0m\u001b[1m \u001b[0m┃\n",
       "┡━━━━━━━━━━━━━━━━━━━━━━━━━━━╇━━━━━━━━━━━━━━━━━━━━━━━━━━━┩\n",
       "│\u001b[36m \u001b[0m\u001b[36m        test_PSNR        \u001b[0m\u001b[36m \u001b[0m│\u001b[35m \u001b[0m\u001b[35m   22.362512588500977    \u001b[0m\u001b[35m \u001b[0m│\n",
       "└───────────────────────────┴───────────────────────────┘\n"
      ]
     },
     "metadata": {},
     "output_type": "display_data"
    },
    {
     "name": "stdout",
     "output_type": "stream",
     "text": [
      "2383.1319377422333\n"
     ]
    }
   ],
   "source": [
    "\"\"\" Test the resfusion restore module \"\"\"\n",
    "import pytorch_lightning as pl\n",
    "from argparse import ArgumentParser\n",
    "from pytorch_lightning import Trainer\n",
    "from datamodule import LOLDataModule\n",
    "from model.denoising_module import RDDM_Unet, DiT_models\n",
    "from model import GaussianResfusion_Restore\n",
    "from variance_scheduler import LinearProScheduler, CosineProScheduler\n",
    "import torch\n",
    "import time\n",
    "\n",
    "\n",
    "def main(args):\n",
    "    # 设定随机种子以及一些因素，用来控制实验结果\n",
    "    if args.set_float32_matmul_precision_high:\n",
    "        torch.set_float32_matmul_precision('high')\n",
    "    if args.set_float32_matmul_precision_medium:\n",
    "        torch.set_float32_matmul_precision('medium')\n",
    "\n",
    "    pl.seed_everything(args.seed, workers=True)\n",
    "\n",
    "    # 数据集的选择\n",
    "    if args.dataset == 'LOL':\n",
    "        data_module = LOLDataModule(root_dir=args.data_dir, batch_size=args.batch_size, pin_mem=args.pin_mem,\n",
    "                                    num_workers=args.num_workers)\n",
    "    elif args.dataset == 'Raindrop':\n",
    "        data_module = RaindropDataModule(root_dir=args.data_dir, batch_size=args.batch_size, pin_mem=args.pin_mem,\n",
    "                                         num_workers=args.num_workers)\n",
    "    else:\n",
    "        raise ValueError(\"Wrong dataset type !!!\")\n",
    "\n",
    "    # 噪声调度器的选择\n",
    "    if args.noise_schedule == 'LinearPro':\n",
    "        variance_scheduler = LinearProScheduler(T=args.T)\n",
    "    elif args.noise_schedule == 'CosinePro':\n",
    "        variance_scheduler = CosineProScheduler(T=args.T)\n",
    "    else:\n",
    "        raise ValueError(\"Wrong variance scheduler type !!!\")\n",
    "\n",
    "    # 去噪模型的选择\n",
    "    if args.denoising_model == 'RDDM_Unet':\n",
    "        denoising_model = RDDM_Unet(\n",
    "            dim=args.dim,\n",
    "            out_dim=args.n_channels,\n",
    "            channels=args.n_channels,\n",
    "            input_condition=True,\n",
    "            input_condition_channels=args.n_channels,\n",
    "            resnet_block_groups=args.resnet_block_groups\n",
    "        )\n",
    "    elif args.denoising_model in DiT_models:\n",
    "        denoising_model = DiT_models[args.denoising_model](\n",
    "            input_size=args.input_size,\n",
    "            channels=args.n_channels,\n",
    "            input_condition=True,\n",
    "            input_condition_channels=args.n_channels,\n",
    "        )\n",
    "    else:\n",
    "        raise ValueError(\"Wrong denoising_model type !!!\")\n",
    "\n",
    "    resfusion_restore_model = GaussianResfusion_Restore.load_from_checkpoint(\n",
    "        checkpoint_path=args.model_ckpt,\n",
    "        denoising_module=denoising_model,\n",
    "        variance_scheduler=variance_scheduler,\n",
    "        mode=args.mode\n",
    "    )\n",
    "    # test the model\n",
    "    trainer = Trainer(\n",
    "        devices=args.device,\n",
    "        num_nodes=1,\n",
    "        logger=True,\n",
    "        default_root_dir=args.log_dir,\n",
    "        deterministic='warn',\n",
    "        precision=args.precision,\n",
    "        enable_model_summary=False\n",
    "    )\n",
    "    start_time=time.time()\n",
    "    trainer.test(model=resfusion_restore_model, datamodule=data_module)\n",
    "    print(time.time()-start_time)\n",
    "\n",
    "\n",
    "if __name__ == '__main__':\n",
    "    parser = ArgumentParser('Test the resfusion_restore module')\n",
    "    # Accuracy control\n",
    "    parser.add_argument('--set_float32_matmul_precision_high', action='store_true')\n",
    "    parser.set_defaults(set_float32_matmul_precision_high=False)\n",
    "    parser.add_argument('--set_float32_matmul_precision_medium', action='store_true')\n",
    "    parser.set_defaults(set_float32_matmul_precision_medium=False)\n",
    "\n",
    "    # Basic Test Control\n",
    "    parser.add_argument('--batch_size', default=4, type=int)\n",
    "    parser.add_argument('--num_workers', default=4, type=int)\n",
    "    parser.add_argument('--pin_mem', default=True, type=bool)\n",
    "    parser.add_argument('--seed', default=42, type=int)\n",
    "    parser.add_argument('--precision', default='32', type=str)\n",
    "\n",
    "    # Hyperparameters\n",
    "    parser.add_argument('--n_channels', default=3, type=int)\n",
    "    parser.add_argument('--noise_schedule', default='LinearPro', type=str)\n",
    "    parser.add_argument('--T', default=12, type=int)\n",
    "\n",
    "    # Denoising Model Hyperparameters\n",
    "    parser.add_argument('--denoising_model', default='RDDM_Unet', type=str)\n",
    "    parser.add_argument('--mode', default='epsilon', type=str)\n",
    "    parser.add_argument('--model_ckpt', default='./model/resfusion_model/lightning_logs/version_0/checkpoints/best-epoch=199-val_SSIM=0.855.ckpt', type=str)\n",
    "    # RDDM_Unet(if used)\n",
    "    parser.add_argument('--dim', default=64, type=int)\n",
    "    parser.add_argument('--resnet_block_groups', default=8, type=int)\n",
    "\n",
    "    # DiT(if used) or DDIM_Unet(if used)\n",
    "    parser.add_argument('--input_size', default=256, type=int)\n",
    "\n",
    "    # Test Info\n",
    "    parser.add_argument('--dataset', default='Raindrop', type=str)\n",
    "    parser.add_argument('--device', default=1, type=int)\n",
    "    parser.add_argument('--data_dir', default='./private_dataset', type=str)\n",
    "    parser.add_argument('--log_dir', default='./resfusion_log', type=str)\n",
    "\n",
    "    args = parser.parse_args()\n",
    "\n",
    "    main(args)"
   ]
  },
  {
   "cell_type": "markdown",
   "id": "65473e07",
   "metadata": {
    "papermill": {
     "duration": 0.016554,
     "end_time": "2025-03-22T01:59:19.683182",
     "exception": false,
     "start_time": "2025-03-22T01:59:19.666628",
     "status": "completed"
    },
    "tags": []
   },
   "source": [
    "## save images for test"
   ]
  },
  {
   "cell_type": "code",
   "execution_count": 6,
   "id": "969a7ed2",
   "metadata": {
    "execution": {
     "iopub.execute_input": "2025-03-22T01:59:19.717165Z",
     "iopub.status.busy": "2025-03-22T01:59:19.716890Z",
     "iopub.status.idle": "2025-03-22T01:59:19.800218Z",
     "shell.execute_reply": "2025-03-22T01:59:19.799535Z"
    },
    "papermill": {
     "duration": 0.101739,
     "end_time": "2025-03-22T01:59:19.801502",
     "exception": false,
     "start_time": "2025-03-22T01:59:19.699763",
     "status": "completed"
    },
    "tags": []
   },
   "outputs": [],
   "source": [
    "import argparse\n",
    "import pathlib\n",
    "import numpy as np\n",
    "import cv2\n",
    "from tensorboard.backend.event_processing import event_accumulator"
   ]
  },
  {
   "cell_type": "code",
   "execution_count": null,
   "id": "d1238256",
   "metadata": {},
   "outputs": [],
   "source": [
    "import os\n",
    "log_root='./resfusion_log/lightning_logs/version_0'\n",
    "for i in os.listdir(log_root):\n",
    "    if i[0]=='e':  \n",
    "        log_dir= os.path.join(log_root,i) \n",
    "        break\n",
    "if os.path.exists(log_dir):\n",
    "    print(log_dir)\n",
    "else :\n",
    "    print(\"Error !!!\")"
   ]
  },
  {
   "cell_type": "code",
   "execution_count": 8,
   "id": "b57143eb",
   "metadata": {
    "execution": {
     "iopub.execute_input": "2025-03-22T01:59:19.875816Z",
     "iopub.status.busy": "2025-03-22T01:59:19.875576Z",
     "iopub.status.idle": "2025-03-22T01:59:19.878808Z",
     "shell.execute_reply": "2025-03-22T01:59:19.878120Z"
    },
    "papermill": {
     "duration": 0.021492,
     "end_time": "2025-03-22T01:59:19.880106",
     "exception": false,
     "start_time": "2025-03-22T01:59:19.858614",
     "status": "completed"
    },
    "tags": []
   },
   "outputs": [],
   "source": [
    "#读取对应的tensorboard文件，将图片保存到指定的文件夹\n",
    "args1 = argparse.Namespace(\n",
    "        #val\n",
    "        # log_dir='/data/bob/git/bob/resfusion_restore_test/lightning_logs/version_7/events.out.tfevents.1710918247.52d6188444b4.27829.1',\n",
    "        # outdir='../images/val',\n",
    "        #test\n",
    "        log_dir=log_dir,\n",
    "        outdir='/kaggle/working/',\n",
    "        )"
   ]
  },
  {
   "cell_type": "code",
   "execution_count": 9,
   "id": "e448a84d",
   "metadata": {
    "execution": {
     "iopub.execute_input": "2025-03-22T01:59:19.916710Z",
     "iopub.status.busy": "2025-03-22T01:59:19.916427Z",
     "iopub.status.idle": "2025-03-22T01:59:44.991051Z",
     "shell.execute_reply": "2025-03-22T01:59:44.990307Z"
    },
    "papermill": {
     "duration": 25.095219,
     "end_time": "2025-03-22T01:59:44.992774",
     "exception": false,
     "start_time": "2025-03-22T01:59:19.897555",
     "status": "completed"
    },
    "tags": []
   },
   "outputs": [],
   "source": [
    "from tensorboard.backend.event_processing import event_accumulator\n",
    "import numpy as np\n",
    "import cv2\n",
    "import pathlib\n",
    "import argparse\n",
    "\n",
    "ea = event_accumulator.EventAccumulator(args1.log_dir, size_guidance={'images': 0}) \n",
    "ea.Reload()\n",
    "outdir = pathlib.Path(args1.outdir)\n",
    "outdir.mkdir(exist_ok=True, parents=True)\n",
    "\n",
    "for tag in ea.Tags()['images']:\n",
    "    parts = tag.split(\"/\")\n",
    "    image_type = parts[0]\n",
    "    \n",
    "    # Chỉ lưu ảnh thuộc loại \"Prediction\"\n",
    "    if image_type != \"Prediction\":\n",
    "        continue\n",
    "\n",
    "    events = ea.Images(tag)\n",
    "    image_code = parts[1]\n",
    "    dirpath = outdir / image_type\n",
    "    dirpath.mkdir(exist_ok=True, parents=True)\n",
    "\n",
    "    for index, event in enumerate(events):\n",
    "        s = np.frombuffer(event.encoded_image_string, dtype=np.uint8)\n",
    "        image = cv2.imdecode(s, cv2.IMREAD_COLOR)  # Prediction thường là ảnh màu\n",
    "        \n",
    "        # Đảm bảo không ghi đè file\n",
    "        outpath = dirpath / f\"{image_code}_step{event.step}_idx{index}.png\"\n",
    "        cv2.imwrite(outpath.as_posix(), image)\n"
   ]
  },
  {
   "cell_type": "markdown",
   "id": "75db0335",
   "metadata": {
    "papermill": {
     "duration": 0.017196,
     "end_time": "2025-03-22T01:59:45.027602",
     "exception": false,
     "start_time": "2025-03-22T01:59:45.010406",
     "status": "completed"
    },
    "tags": []
   },
   "source": [
    "## change file name"
   ]
  },
  {
   "cell_type": "code",
   "execution_count": 10,
   "id": "2192dd70",
   "metadata": {
    "execution": {
     "iopub.execute_input": "2025-03-22T01:59:45.064717Z",
     "iopub.status.busy": "2025-03-22T01:59:45.064417Z",
     "iopub.status.idle": "2025-03-22T01:59:45.068126Z",
     "shell.execute_reply": "2025-03-22T01:59:45.067370Z"
    },
    "papermill": {
     "duration": 0.024371,
     "end_time": "2025-03-22T01:59:45.069399",
     "exception": false,
     "start_time": "2025-03-22T01:59:45.045028",
     "status": "completed"
    },
    "tags": []
   },
   "outputs": [],
   "source": [
    "import os\n",
    "import shutil\n",
    "\n",
    "# 设置路径\n",
    "origin_path = './private_dataset'\n",
    "predict_path = 'Prediction'\n",
    "new_predict_path = './resfusion_inference'"
   ]
  },
  {
   "cell_type": "code",
   "execution_count": 11,
   "id": "b4169106",
   "metadata": {
    "execution": {
     "iopub.execute_input": "2025-03-22T01:59:45.102887Z",
     "iopub.status.busy": "2025-03-22T01:59:45.102627Z",
     "iopub.status.idle": "2025-03-22T01:59:45.111605Z",
     "shell.execute_reply": "2025-03-22T01:59:45.110808Z"
    },
    "papermill": {
     "duration": 0.027266,
     "end_time": "2025-03-22T01:59:45.112945",
     "exception": false,
     "start_time": "2025-03-22T01:59:45.085679",
     "status": "completed"
    },
    "tags": []
   },
   "outputs": [
    {
     "name": "stdout",
     "output_type": "stream",
     "text": [
      "00001.png\n"
     ]
    }
   ],
   "source": [
    "# 创建新目录结构\n",
    "os.makedirs(new_predict_path, exist_ok=True)\n",
    "# 确保数据和对应的标签匹配\n",
    "origin_files = os.listdir(origin_path)\n",
    "predict_files = os.listdir(predict_path)\n",
    "origin_files.sort()\n",
    "predict_files.sort()\n",
    "print(origin_files[0])"
   ]
  },
  {
   "cell_type": "code",
   "execution_count": 12,
   "id": "23516f2e",
   "metadata": {
    "execution": {
     "iopub.execute_input": "2025-03-22T01:59:45.147146Z",
     "iopub.status.busy": "2025-03-22T01:59:45.146857Z",
     "iopub.status.idle": "2025-03-22T01:59:45.574170Z",
     "shell.execute_reply": "2025-03-22T01:59:45.573393Z"
    },
    "papermill": {
     "duration": 0.446339,
     "end_time": "2025-03-22T01:59:45.575788",
     "exception": false,
     "start_time": "2025-03-22T01:59:45.129449",
     "status": "completed"
    },
    "tags": []
   },
   "outputs": [],
   "source": [
    "# 复制文件到新目录\n",
    "for i in range(len(origin_files)):\n",
    "    old_file = os.path.join(predict_path, predict_files[i])\n",
    "    new_file = os.path.join(new_predict_path, origin_files[i])\n",
    "    shutil.copy(old_file, new_file)\n",
    "shutil.rmtree(predict_path)"
   ]
  }
 ],
 "metadata": {
  "kaggle": {
   "accelerator": "nvidiaTeslaT4",
   "dataSources": [
    {
     "datasetId": 6702616,
     "sourceId": 10799362,
     "sourceType": "datasetVersion"
    },
    {
     "datasetId": 6665843,
     "sourceId": 10810095,
     "sourceType": "datasetVersion"
    },
    {
     "datasetId": 6696073,
     "sourceId": 10815547,
     "sourceType": "datasetVersion"
    },
    {
     "datasetId": 6616087,
     "sourceId": 10839533,
     "sourceType": "datasetVersion"
    },
    {
     "sourceId": 224792499,
     "sourceType": "kernelVersion"
    },
    {
     "sourceId": 226061861,
     "sourceType": "kernelVersion"
    },
    {
     "sourceId": 226429978,
     "sourceType": "kernelVersion"
    },
    {
     "sourceId": 228930535,
     "sourceType": "kernelVersion"
    }
   ],
   "dockerImageVersionId": 30887,
   "isGpuEnabled": true,
   "isInternetEnabled": true,
   "language": "python",
   "sourceType": "notebook"
  },
  "kernelspec": {
   "display_name": "Python 3",
   "language": "python",
   "name": "python3"
  },
  "language_info": {
   "codemirror_mode": {
    "name": "ipython",
    "version": 3
   },
   "file_extension": ".py",
   "mimetype": "text/x-python",
   "name": "python",
   "nbconvert_exporter": "python",
   "pygments_lexer": "ipython3",
   "version": "3.10.12"
  },
  "papermill": {
   "default_parameters": {},
   "duration": 2446.349681,
   "end_time": "2025-03-22T01:59:49.485445",
   "environment_variables": {},
   "exception": null,
   "input_path": "__notebook__.ipynb",
   "output_path": "__notebook__.ipynb",
   "parameters": {},
   "start_time": "2025-03-22T01:19:03.135764",
   "version": "2.6.0"
  },
  "widgets": {
   "application/vnd.jupyter.widget-state+json": {
    "state": {
     "06de583926024eceac473088a8e98471": {
      "model_module": "@jupyter-widgets/controls",
      "model_module_version": "2.0.0",
      "model_name": "HTMLStyleModel",
      "state": {
       "_model_module": "@jupyter-widgets/controls",
       "_model_module_version": "2.0.0",
       "_model_name": "HTMLStyleModel",
       "_view_count": null,
       "_view_module": "@jupyter-widgets/base",
       "_view_module_version": "2.0.0",
       "_view_name": "StyleView",
       "background": null,
       "description_width": "",
       "font_size": null,
       "text_color": null
      }
     },
     "0ee25837f80f471fa31c80939040422a": {
      "model_module": "@jupyter-widgets/controls",
      "model_module_version": "2.0.0",
      "model_name": "FloatProgressModel",
      "state": {
       "_dom_classes": [],
       "_model_module": "@jupyter-widgets/controls",
       "_model_module_version": "2.0.0",
       "_model_name": "FloatProgressModel",
       "_view_count": null,
       "_view_module": "@jupyter-widgets/controls",
       "_view_module_version": "2.0.0",
       "_view_name": "ProgressView",
       "bar_style": "success",
       "description": "",
       "description_allow_html": false,
       "layout": "IPY_MODEL_1d44c1aa87764fb1991e90c56fdb0f0b",
       "max": 731,
       "min": 0,
       "orientation": "horizontal",
       "style": "IPY_MODEL_53668b1e0b1a430188733be7e71054a3",
       "tabbable": null,
       "tooltip": null,
       "value": 731
      }
     },
     "1d44c1aa87764fb1991e90c56fdb0f0b": {
      "model_module": "@jupyter-widgets/base",
      "model_module_version": "2.0.0",
      "model_name": "LayoutModel",
      "state": {
       "_model_module": "@jupyter-widgets/base",
       "_model_module_version": "2.0.0",
       "_model_name": "LayoutModel",
       "_view_count": null,
       "_view_module": "@jupyter-widgets/base",
       "_view_module_version": "2.0.0",
       "_view_name": "LayoutView",
       "align_content": null,
       "align_items": null,
       "align_self": null,
       "border_bottom": null,
       "border_left": null,
       "border_right": null,
       "border_top": null,
       "bottom": null,
       "display": null,
       "flex": "2",
       "flex_flow": null,
       "grid_area": null,
       "grid_auto_columns": null,
       "grid_auto_flow": null,
       "grid_auto_rows": null,
       "grid_column": null,
       "grid_gap": null,
       "grid_row": null,
       "grid_template_areas": null,
       "grid_template_columns": null,
       "grid_template_rows": null,
       "height": null,
       "justify_content": null,
       "justify_items": null,
       "left": null,
       "margin": null,
       "max_height": null,
       "max_width": null,
       "min_height": null,
       "min_width": null,
       "object_fit": null,
       "object_position": null,
       "order": null,
       "overflow": null,
       "padding": null,
       "right": null,
       "top": null,
       "visibility": null,
       "width": null
      }
     },
     "4db0d5500cdd4183a4cff6bd1d99e7de": {
      "model_module": "@jupyter-widgets/base",
      "model_module_version": "2.0.0",
      "model_name": "LayoutModel",
      "state": {
       "_model_module": "@jupyter-widgets/base",
       "_model_module_version": "2.0.0",
       "_model_name": "LayoutModel",
       "_view_count": null,
       "_view_module": "@jupyter-widgets/base",
       "_view_module_version": "2.0.0",
       "_view_name": "LayoutView",
       "align_content": null,
       "align_items": null,
       "align_self": null,
       "border_bottom": null,
       "border_left": null,
       "border_right": null,
       "border_top": null,
       "bottom": null,
       "display": "inline-flex",
       "flex": null,
       "flex_flow": "row wrap",
       "grid_area": null,
       "grid_auto_columns": null,
       "grid_auto_flow": null,
       "grid_auto_rows": null,
       "grid_column": null,
       "grid_gap": null,
       "grid_row": null,
       "grid_template_areas": null,
       "grid_template_columns": null,
       "grid_template_rows": null,
       "height": null,
       "justify_content": null,
       "justify_items": null,
       "left": null,
       "margin": null,
       "max_height": null,
       "max_width": null,
       "min_height": null,
       "min_width": null,
       "object_fit": null,
       "object_position": null,
       "order": null,
       "overflow": null,
       "padding": null,
       "right": null,
       "top": null,
       "visibility": null,
       "width": "100%"
      }
     },
     "53668b1e0b1a430188733be7e71054a3": {
      "model_module": "@jupyter-widgets/controls",
      "model_module_version": "2.0.0",
      "model_name": "ProgressStyleModel",
      "state": {
       "_model_module": "@jupyter-widgets/controls",
       "_model_module_version": "2.0.0",
       "_model_name": "ProgressStyleModel",
       "_view_count": null,
       "_view_module": "@jupyter-widgets/base",
       "_view_module_version": "2.0.0",
       "_view_name": "StyleView",
       "bar_color": null,
       "description_width": ""
      }
     },
     "81e710682b6d49b19874d1732faebb3f": {
      "model_module": "@jupyter-widgets/controls",
      "model_module_version": "2.0.0",
      "model_name": "HTMLStyleModel",
      "state": {
       "_model_module": "@jupyter-widgets/controls",
       "_model_module_version": "2.0.0",
       "_model_name": "HTMLStyleModel",
       "_view_count": null,
       "_view_module": "@jupyter-widgets/base",
       "_view_module_version": "2.0.0",
       "_view_name": "StyleView",
       "background": null,
       "description_width": "",
       "font_size": null,
       "text_color": null
      }
     },
     "8b388db284df498597ecc40c17a075e0": {
      "model_module": "@jupyter-widgets/base",
      "model_module_version": "2.0.0",
      "model_name": "LayoutModel",
      "state": {
       "_model_module": "@jupyter-widgets/base",
       "_model_module_version": "2.0.0",
       "_model_name": "LayoutModel",
       "_view_count": null,
       "_view_module": "@jupyter-widgets/base",
       "_view_module_version": "2.0.0",
       "_view_name": "LayoutView",
       "align_content": null,
       "align_items": null,
       "align_self": null,
       "border_bottom": null,
       "border_left": null,
       "border_right": null,
       "border_top": null,
       "bottom": null,
       "display": null,
       "flex": null,
       "flex_flow": null,
       "grid_area": null,
       "grid_auto_columns": null,
       "grid_auto_flow": null,
       "grid_auto_rows": null,
       "grid_column": null,
       "grid_gap": null,
       "grid_row": null,
       "grid_template_areas": null,
       "grid_template_columns": null,
       "grid_template_rows": null,
       "height": null,
       "justify_content": null,
       "justify_items": null,
       "left": null,
       "margin": null,
       "max_height": null,
       "max_width": null,
       "min_height": null,
       "min_width": null,
       "object_fit": null,
       "object_position": null,
       "order": null,
       "overflow": null,
       "padding": null,
       "right": null,
       "top": null,
       "visibility": null,
       "width": null
      }
     },
     "a3be9d54d7244c778e106a5e989a39b4": {
      "model_module": "@jupyter-widgets/base",
      "model_module_version": "2.0.0",
      "model_name": "LayoutModel",
      "state": {
       "_model_module": "@jupyter-widgets/base",
       "_model_module_version": "2.0.0",
       "_model_name": "LayoutModel",
       "_view_count": null,
       "_view_module": "@jupyter-widgets/base",
       "_view_module_version": "2.0.0",
       "_view_name": "LayoutView",
       "align_content": null,
       "align_items": null,
       "align_self": null,
       "border_bottom": null,
       "border_left": null,
       "border_right": null,
       "border_top": null,
       "bottom": null,
       "display": null,
       "flex": null,
       "flex_flow": null,
       "grid_area": null,
       "grid_auto_columns": null,
       "grid_auto_flow": null,
       "grid_auto_rows": null,
       "grid_column": null,
       "grid_gap": null,
       "grid_row": null,
       "grid_template_areas": null,
       "grid_template_columns": null,
       "grid_template_rows": null,
       "height": null,
       "justify_content": null,
       "justify_items": null,
       "left": null,
       "margin": null,
       "max_height": null,
       "max_width": null,
       "min_height": null,
       "min_width": null,
       "object_fit": null,
       "object_position": null,
       "order": null,
       "overflow": null,
       "padding": null,
       "right": null,
       "top": null,
       "visibility": null,
       "width": null
      }
     },
     "ced876ead97242f1847ad6e0a9fe6033": {
      "model_module": "@jupyter-widgets/controls",
      "model_module_version": "2.0.0",
      "model_name": "HTMLModel",
      "state": {
       "_dom_classes": [],
       "_model_module": "@jupyter-widgets/controls",
       "_model_module_version": "2.0.0",
       "_model_name": "HTMLModel",
       "_view_count": null,
       "_view_module": "@jupyter-widgets/controls",
       "_view_module_version": "2.0.0",
       "_view_name": "HTMLView",
       "description": "",
       "description_allow_html": false,
       "layout": "IPY_MODEL_8b388db284df498597ecc40c17a075e0",
       "placeholder": "​",
       "style": "IPY_MODEL_06de583926024eceac473088a8e98471",
       "tabbable": null,
       "tooltip": null,
       "value": " 731/731 [39:24&lt;00:00,  0.31it/s]"
      }
     },
     "d6b754f3d2ae4fd98a3533e4ff33a920": {
      "model_module": "@jupyter-widgets/controls",
      "model_module_version": "2.0.0",
      "model_name": "HBoxModel",
      "state": {
       "_dom_classes": [],
       "_model_module": "@jupyter-widgets/controls",
       "_model_module_version": "2.0.0",
       "_model_name": "HBoxModel",
       "_view_count": null,
       "_view_module": "@jupyter-widgets/controls",
       "_view_module_version": "2.0.0",
       "_view_name": "HBoxView",
       "box_style": "",
       "children": [
        "IPY_MODEL_febea1e31e454df184e5e8b754bf22cb",
        "IPY_MODEL_0ee25837f80f471fa31c80939040422a",
        "IPY_MODEL_ced876ead97242f1847ad6e0a9fe6033"
       ],
       "layout": "IPY_MODEL_4db0d5500cdd4183a4cff6bd1d99e7de",
       "tabbable": null,
       "tooltip": null
      }
     },
     "febea1e31e454df184e5e8b754bf22cb": {
      "model_module": "@jupyter-widgets/controls",
      "model_module_version": "2.0.0",
      "model_name": "HTMLModel",
      "state": {
       "_dom_classes": [],
       "_model_module": "@jupyter-widgets/controls",
       "_model_module_version": "2.0.0",
       "_model_name": "HTMLModel",
       "_view_count": null,
       "_view_module": "@jupyter-widgets/controls",
       "_view_module_version": "2.0.0",
       "_view_name": "HTMLView",
       "description": "",
       "description_allow_html": false,
       "layout": "IPY_MODEL_a3be9d54d7244c778e106a5e989a39b4",
       "placeholder": "​",
       "style": "IPY_MODEL_81e710682b6d49b19874d1732faebb3f",
       "tabbable": null,
       "tooltip": null,
       "value": "Testing DataLoader 0: 100%"
      }
     }
    },
    "version_major": 2,
    "version_minor": 0
   }
  }
 },
 "nbformat": 4,
 "nbformat_minor": 5
}
