{
 "cells": [
  {
   "cell_type": "code",
   "execution_count": null,
   "id": "6060849c",
   "metadata": {},
   "outputs": [],
   "source": [
    "!git clone https://github.com/swz30/Restormer"
   ]
  },
  {
   "cell_type": "markdown",
   "id": "e4f9d56a",
   "metadata": {},
   "source": []
  },
  {
   "cell_type": "code",
   "execution_count": 1,
   "id": "2f8b2a92",
   "metadata": {
    "_cell_guid": "b1076dfc-b9ad-4769-8c92-a6c4dae69d19",
    "_uuid": "8f2839f25d086af736a60e9eeb907d3b93b6e0e5",
    "execution": {
     "iopub.execute_input": "2025-03-21T18:47:45.831752Z",
     "iopub.status.busy": "2025-03-21T18:47:45.831414Z",
     "iopub.status.idle": "2025-03-21T18:47:45.837089Z",
     "shell.execute_reply": "2025-03-21T18:47:45.836264Z"
    },
    "papermill": {
     "duration": 0.01013,
     "end_time": "2025-03-21T18:47:45.838351",
     "exception": false,
     "start_time": "2025-03-21T18:47:45.828221",
     "status": "completed"
    },
    "tags": []
   },
   "outputs": [],
   "source": [
    "import sys\n",
    "import os\n",
    "\n",
    "# Thêm đường dẫn vào sys.path\n",
    "sys.path.append('restormers/pytorch/default/1')\n"
   ]
  },
  {
   "cell_type": "code",
   "execution_count": 2,
   "id": "75279b9f",
   "metadata": {
    "execution": {
     "iopub.execute_input": "2025-03-21T18:47:45.842542Z",
     "iopub.status.busy": "2025-03-21T18:47:45.842321Z",
     "iopub.status.idle": "2025-03-21T18:47:45.845523Z",
     "shell.execute_reply": "2025-03-21T18:47:45.844702Z"
    },
    "papermill": {
     "duration": 0.006531,
     "end_time": "2025-03-21T18:47:45.846837",
     "exception": false,
     "start_time": "2025-03-21T18:47:45.840306",
     "status": "completed"
    },
    "tags": []
   },
   "outputs": [],
   "source": [
    "import sys\n",
    "sys.argv = sys.argv[:1]  # Loại bỏ đối số '-f' của Jupyter"
   ]
  },
  {
   "cell_type": "code",
   "execution_count": 3,
   "id": "8d4a1c39",
   "metadata": {
    "execution": {
     "iopub.execute_input": "2025-03-21T18:47:45.851048Z",
     "iopub.status.busy": "2025-03-21T18:47:45.850824Z",
     "iopub.status.idle": "2025-03-21T19:04:32.938201Z",
     "shell.execute_reply": "2025-03-21T19:04:32.936979Z"
    },
    "papermill": {
     "duration": 1007.091493,
     "end_time": "2025-03-21T19:04:32.939975",
     "exception": false,
     "start_time": "2025-03-21T18:47:45.848482",
     "status": "completed"
    },
    "tags": []
   },
   "outputs": [
    {
     "name": "stderr",
     "output_type": "stream",
     "text": [
      "<ipython-input-3-3de98f9adf06>:77: FutureWarning: You are using `torch.load` with `weights_only=False` (the current default value), which uses the default pickle module implicitly. It is possible to construct malicious pickle data which will execute arbitrary code during unpickling (See https://github.com/pytorch/pytorch/blob/main/SECURITY.md#untrusted-models for more details). In a future release, the default value for `weights_only` will be flipped to `True`. This limits the functions that could be executed during unpickling. Arbitrary objects will no longer be allowed to be loaded via this mode unless they are explicitly allowlisted by the user via `torch.serialization.add_safe_globals`. We recommend you start setting `weights_only=True` for any use case where you don't have full control of the loaded file. Please open an issue on GitHub for any issues related to this experimental feature.\n",
      "  checkpoint = torch.load(weights)\n",
      "100%|██████████| 731/731 [16:36<00:00,  1.36s/it]"
     ]
    },
    {
     "name": "stdout",
     "output_type": "stream",
     "text": [
      "\n",
      "Restored images saved at /kaggle/working/ensemble_pseudo_deblur/Real_Denoising\n",
      "996.1291255950928\n"
     ]
    },
    {
     "name": "stderr",
     "output_type": "stream",
     "text": [
      "\n"
     ]
    }
   ],
   "source": [
    "import torch\n",
    "import torch.nn.functional as F\n",
    "import torchvision.transforms.functional as TF\n",
    "import os\n",
    "from runpy import run_path\n",
    "from skimage import img_as_ubyte\n",
    "from natsort import natsorted\n",
    "from glob import glob\n",
    "import cv2\n",
    "from tqdm import tqdm\n",
    "import numpy as np\n",
    "\n",
    "def get_args():\n",
    "    return {\n",
    "        'input_dir': './ensemble_private_pseudo2',\n",
    "        'result_dir': './final_output',\n",
    "        'task': 'Real_Denoising',\n",
    "        'tile': None,\n",
    "        'tile_overlap': 32\n",
    "    }\n",
    "\n",
    "args = get_args()\n",
    "\n",
    "\n",
    "def load_img(filepath):\n",
    "    return cv2.cvtColor(cv2.imread(filepath), cv2.COLOR_BGR2RGB)\n",
    "\n",
    "\n",
    "def save_img(filepath, img):\n",
    "    cv2.imwrite(filepath, cv2.cvtColor(img, cv2.COLOR_RGB2BGR))\n",
    "\n",
    "\n",
    "def load_gray_img(filepath):\n",
    "    return np.expand_dims(cv2.imread(filepath, cv2.IMREAD_GRAYSCALE), axis=2)\n",
    "\n",
    "\n",
    "def save_gray_img(filepath, img):\n",
    "    cv2.imwrite(filepath, img)\n",
    "\n",
    "## follow repo https://github.com/swz30/Restormer to download weights and store right folder\n",
    "def get_weights_and_parameters(task, parameters):\n",
    "    weights_path = {\n",
    "        'Single_Image_Defocus_Deblurring': 'restomer-checkpoint/single_image_defocus_deblurring.pth',\n",
    "        'Motion_Deblurring': 'restomer-checkpoint/motion_deblurring.pth',\n",
    "        'Deraining': 'restomer-checkpoint/deraining.pth',\n",
    "        'Real_Denoising': 'restomer-checkpoint/real_denoising.pth',\n",
    "        'Gaussian_Color_Denoising': 'restomer-checkpoint/gaussian_color_denoising.pth',\n",
    "        'Gaussian_Gray_Denoising': 'restomer-checkpoint/gaussian_gray_denoising.pth'\n",
    "    }\n",
    "    \n",
    "    weights = weights_path.get(task, None)\n",
    "    if weights is None:\n",
    "        raise ValueError(f\"Task '{task}' not recognized or weights not found.\")\n",
    "    \n",
    "    if task in ['Real_Denoising', 'Gaussian_Color_Denoising', 'Gaussian_Gray_Denoising']:\n",
    "        parameters['LayerNorm_type'] = 'BiasFree'\n",
    "    if task == 'Gaussian_Gray_Denoising':\n",
    "        parameters['inp_channels'] = parameters['out_channels'] = 1\n",
    "    \n",
    "    return weights, parameters\n",
    "\n",
    "\n",
    "# Load model\n",
    "parameters = {'inp_channels': 3, 'out_channels': 3, 'dim': 48, 'num_blocks': [4, 6, 6, 8], 'num_refinement_blocks': 4,\n",
    "              'heads': [1, 2, 4, 8], 'ffn_expansion_factor': 2.66, 'bias': False, 'LayerNorm_type': 'WithBias',\n",
    "              'dual_pixel_task': False}\n",
    "\n",
    "weights, parameters = get_weights_and_parameters(args['task'], parameters)\n",
    "\n",
    "load_arch = run_path(os.path.join('restormers/pytorch/default/1/basicsr/models/archs/restormer_arch.py'))\n",
    "model = load_arch['Restormer'](**parameters)\n",
    "\n",
    "device = torch.device('cuda' if torch.cuda.is_available() else 'cpu')\n",
    "model.to(device)\n",
    "\n",
    "checkpoint = torch.load(weights)\n",
    "model.load_state_dict(checkpoint['params'])\n",
    "model.eval()\n",
    "\n",
    "\n",
    "# Processing images\n",
    "inp_dir = args['input_dir']\n",
    "out_dir = os.path.join(args['result_dir'], args['task'])\n",
    "os.makedirs(out_dir, exist_ok=True)\n",
    "\n",
    "extensions = ['jpg', 'png', 'jpeg', 'bmp']\n",
    "files = [f for ext in extensions for f in glob(os.path.join(inp_dir, f'*.{ext}'))]\n",
    "\n",
    "if not files:\n",
    "    raise Exception(f'No image files found in {inp_dir}')\n",
    "\n",
    "img_multiple_of = 8\n",
    "\n",
    "import time\n",
    "start_time=time.time()\n",
    "with torch.no_grad():\n",
    "    for file_ in tqdm(files):\n",
    "        if torch.cuda.is_available():\n",
    "            torch.cuda.ipc_collect()\n",
    "            torch.cuda.empty_cache()\n",
    "\n",
    "        img = load_img(file_)\n",
    "        input_ = torch.from_numpy(img).float().div(255.).permute(2, 0, 1).unsqueeze(0).to(device)\n",
    "\n",
    "        height, width = input_.shape[2], input_.shape[3]\n",
    "        H, W = ((height + img_multiple_of) // img_multiple_of) * img_multiple_of, ((width + img_multiple_of) // img_multiple_of) * img_multiple_of\n",
    "        padh, padw = H - height, W - width\n",
    "        input_ = F.pad(input_, (0, padw, 0, padh), 'reflect')\n",
    "\n",
    "        restored = model(input_)\n",
    "        restored = torch.clamp(restored, 0, 1)\n",
    "        restored = restored[:, :, :height, :width]\n",
    "\n",
    "        restored = restored.permute(0, 2, 3, 1).cpu().detach().numpy()\n",
    "        restored = img_as_ubyte(restored[0])\n",
    "\n",
    "        f = os.path.splitext(os.path.basename(file_))[0]\n",
    "        save_img(os.path.join(out_dir, f + '.png'), restored)\n",
    "\n",
    "    print(f\"\\nRestored images saved at {out_dir}\")\n",
    "    print(time.time()-start_time)\n",
    "\n",
    "\n",
    "# Now you can just run the cell without passing command-line arguments!\n"
   ]
  },
  {
   "cell_type": "code",
   "execution_count": null,
   "id": "6a0b6c14",
   "metadata": {
    "papermill": {
     "duration": 0.034681,
     "end_time": "2025-03-21T19:04:33.008229",
     "exception": false,
     "start_time": "2025-03-21T19:04:32.973548",
     "status": "completed"
    },
    "tags": []
   },
   "outputs": [],
   "source": []
  }
 ],
 "metadata": {
  "kaggle": {
   "accelerator": "nvidiaTeslaT4",
   "dataSources": [
    {
     "datasetId": 6740658,
     "sourceId": 10852764,
     "sourceType": "datasetVersion"
    },
    {
     "datasetId": 6724972,
     "sourceId": 10908336,
     "sourceType": "datasetVersion"
    },
    {
     "datasetId": 6616087,
     "sourceId": 11054933,
     "sourceType": "datasetVersion"
    },
    {
     "datasetId": 6932298,
     "sourceId": 11117593,
     "sourceType": "datasetVersion"
    },
    {
     "sourceId": 228921519,
     "sourceType": "kernelVersion"
    },
    {
     "modelId": 249525,
     "modelInstanceId": 227753,
     "sourceId": 266176,
     "sourceType": "modelInstanceVersion"
    }
   ],
   "dockerImageVersionId": 30919,
   "isGpuEnabled": true,
   "isInternetEnabled": true,
   "language": "python",
   "sourceType": "notebook"
  },
  "kernelspec": {
   "display_name": "Python 3",
   "language": "python",
   "name": "python3"
  },
  "language_info": {
   "codemirror_mode": {
    "name": "ipython",
    "version": 3
   },
   "file_extension": ".py",
   "mimetype": "text/x-python",
   "name": "python",
   "nbconvert_exporter": "python",
   "pygments_lexer": "ipython3",
   "version": "3.10.12"
  },
  "papermill": {
   "default_parameters": {},
   "duration": 1012.313431,
   "end_time": "2025-03-21T19:04:35.353602",
   "environment_variables": {},
   "exception": null,
   "input_path": "__notebook__.ipynb",
   "output_path": "__notebook__.ipynb",
   "parameters": {},
   "start_time": "2025-03-21T18:47:43.040171",
   "version": "2.6.0"
  }
 },
 "nbformat": 4,
 "nbformat_minor": 5
}
